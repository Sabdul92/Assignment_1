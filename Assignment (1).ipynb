{
 "cells": [
  {
   "cell_type": "code",
   "execution_count": null,
   "id": "e2bebdba",
   "metadata": {},
   "outputs": [],
   "source": [
    "1.ANS:-\n",
    "    \n",
    "* This is a Multiplication symbol comes from Arithmetic Operators.\n",
    "\n",
    "'hello' This is a String.\n",
    "\n",
    "-87.8 it is a Float.\n",
    "\n",
    "- This is a Substraction symbol comes from Arithmetic Operators.\n",
    "\n",
    "/ This is a Division symbol comes from Arithmetic Operators.\n",
    "\n",
    "+ This is a Addition symbol comes from Arithmetic Operators.\n",
    "\n",
    "6 This is a number Value and its type is Integer."
   ]
  },
  {
   "cell_type": "code",
   "execution_count": null,
   "id": "b0e664e2",
   "metadata": {},
   "outputs": [],
   "source": [
    "2. ANS:- \n",
    "    \n",
    "Variables are symbols that you can use to store data in a program.\n",
    "you can think of them as an empty box that you fill some data or value.\n",
    "String are data, so we can use them to fill up a variable.\n",
    "\n",
    "A= 10 in this case A is a Variable\n",
    "\n",
    "\"Hello world\" This is a String"
   ]
  },
  {
   "cell_type": "code",
   "execution_count": null,
   "id": "7c3aeb11",
   "metadata": {},
   "outputs": [],
   "source": [
    "3. ANS:- The Data Types are as follows:-\n",
    "    1) List\n",
    "    2) Tupple\n",
    "    3) Set\n",
    "    4) Dictionary\n",
    "    5) String"
   ]
  },
  {
   "cell_type": "code",
   "execution_count": null,
   "id": "1f1638eb",
   "metadata": {},
   "outputs": [],
   "source": [
    "4. ANS:-\n",
    "An Expression represents something, which python evaluates and which then produces a value\n",
    "its may be +,-,*,/..... \n",
    "Ex.. A = 5 + 8 in this statement 5 + 8 = 13 is a Expression\n",
    "\n",
    "A is a Variable = is a Assignment + is a operator\n"
   ]
  },
  {
   "cell_type": "code",
   "execution_count": null,
   "id": "d30862d9",
   "metadata": {},
   "outputs": [],
   "source": [
    "5. ANS:-\n",
    "Expression alway represent some any VALUE\n",
    "\n",
    "Instraction that a python interpreter can execute are called statement"
   ]
  },
  {
   "cell_type": "code",
   "execution_count": 8,
   "id": "27ba401e",
   "metadata": {},
   "outputs": [
    {
     "data": {
      "text/plain": [
       "23"
      ]
     },
     "execution_count": 8,
     "metadata": {},
     "output_type": "execute_result"
    }
   ],
   "source": [
    "6.ANS:-\n",
    "# After running bacon =22 and bacon +1 result will be come 23\n",
    "bacon = 22\n",
    "bacon + 1"
   ]
  },
  {
   "cell_type": "code",
   "execution_count": 47,
   "id": "a06fc488",
   "metadata": {},
   "outputs": [
    {
     "data": {
      "text/plain": [
       "'spamspamspam'"
      ]
     },
     "execution_count": 47,
     "metadata": {},
     "output_type": "execute_result"
    }
   ],
   "source": [
    "#7. ANS:-\n",
    "    # Values of the following two terms will be same spamspamspam\n",
    "'spam' + 'spamspam' \n",
    "'spam' * 3"
   ]
  },
  {
   "cell_type": "code",
   "execution_count": null,
   "id": "c60803d1",
   "metadata": {},
   "outputs": [],
   "source": [
    "8.ANS:-\n",
    "eggs is a valid variable becouse variable start from Alphabet not a numerical thats a reson 100 is invalid variable "
   ]
  },
  {
   "cell_type": "code",
   "execution_count": null,
   "id": "b6bef876",
   "metadata": {},
   "outputs": [],
   "source": [
    "9.ANS:-\n",
    "these are the example.\n",
    "A= 10 this is a Integer\n",
    "A= 10.5 this is a Float &\n",
    "A= 'Apple' this is a String"
   ]
  },
  {
   "cell_type": "code",
   "execution_count": 46,
   "id": "9b0b7b1d",
   "metadata": {},
   "outputs": [
    {
     "data": {
      "text/plain": [
       "'i have eaten99burritos'"
      ]
     },
     "execution_count": 46,
     "metadata": {},
     "output_type": "execute_result"
    }
   ],
   "source": [
    "#10. ANS\n",
    "'i have eaten' +'99'+ 'burritos'\n"
   ]
  },
  {
   "cell_type": "code",
   "execution_count": null,
   "id": "8ca1ae60",
   "metadata": {},
   "outputs": [],
   "source": []
  }
 ],
 "metadata": {
  "kernelspec": {
   "display_name": "Python 3 (ipykernel)",
   "language": "python",
   "name": "python3"
  },
  "language_info": {
   "codemirror_mode": {
    "name": "ipython",
    "version": 3
   },
   "file_extension": ".py",
   "mimetype": "text/x-python",
   "name": "python",
   "nbconvert_exporter": "python",
   "pygments_lexer": "ipython3",
   "version": "3.10.9"
  }
 },
 "nbformat": 4,
 "nbformat_minor": 5
}
